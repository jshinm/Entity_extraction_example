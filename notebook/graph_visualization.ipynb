{
 "cells": [
  {
   "cell_type": "code",
   "execution_count": 18,
   "metadata": {},
   "outputs": [],
   "source": [
    "from pyvis.network import Network"
   ]
  },
  {
   "cell_type": "code",
   "execution_count": null,
   "metadata": {},
   "outputs": [],
   "source": [
    "g = Network(height=\"400px\", width=\"50%\", heading=\"\")\n",
    "g.add_node(1)\n",
    "g.add_node(2)\n",
    "g.add_node(3)\n",
    "g.add_edge(1, 2)\n",
    "g.add_edge(2, 3)"
   ]
  },
  {
   "cell_type": "code",
   "execution_count": 23,
   "metadata": {},
   "outputs": [
    {
     "data": {
      "text/plain": [
       "'<html>\\n    <head>\\n        <meta charset=\"utf-8\">\\n        \\n            <script src=\"lib/bindings/utils.js\"></script>\\n            <link rel=\"stylesheet\" href=\"https://cdnjs.cloudflare.com/ajax/libs/vis-network/9.1.2/dist/dist/vis-network.min.css\" integrity=\"sha512-WgxfT5LWjfszlPHXRmBWHkV2eceiWTOBvrKCNbdgDYTHrT2AeLCGbF4sZlZw3UMN3WtL0tGUoIAKsu8mllg/XA==\" crossorigin=\"anonymous\" referrerpolicy=\"no-referrer\" />\\n            <script src=\"https://cdnjs.cloudflare.com/ajax/libs/vis-network/9.1.2/dist/vis-network.min.js\" integrity=\"sha512-LnvoEWDFrqGHlHmDD2101OrLcbsfkrzoSpvtSQtxK3RMnRV0eOkhhBN2dXHKRrUU8p2DGRTk35n4O8nWSVe1mQ==\" crossorigin=\"anonymous\" referrerpolicy=\"no-referrer\"></script>\\n            \\n        \\n<center>\\n<h1></h1>\\n</center>\\n\\n<!-- <link rel=\"stylesheet\" href=\"../node_modules/vis/dist/vis.min.css\" type=\"text/css\" />\\n<script type=\"text/javascript\" src=\"../node_modules/vis/dist/vis.js\"> </script>-->\\n        <link\\n          href=\"https://cdn.jsdelivr.net/npm/bootstrap@5.0.0-beta3/dist/css/bootstrap.min.css\"\\n          rel=\"stylesheet\"\\n          integrity=\"sha384-eOJMYsd53ii+scO/bJGFsiCZc+5NDVN2yr8+0RDqr0Ql0h+rP48ckxlpbzKgwra6\"\\n          crossorigin=\"anonymous\"\\n        />\\n        <script\\n          src=\"https://cdn.jsdelivr.net/npm/bootstrap@5.0.0-beta3/dist/js/bootstrap.bundle.min.js\"\\n          integrity=\"sha384-JEW9xMcG8R+pH31jmWH6WWP0WintQrMb4s7ZOdauHnUtxwoG2vI5DkLtS3qm9Ekf\"\\n          crossorigin=\"anonymous\"\\n        ></script>\\n\\n\\n        <center>\\n          <h1></h1>\\n        </center>\\n        <style type=\"text/css\">\\n\\n             #mynetwork {\\n                 width: 50%;\\n                 height: 400px;\\n                 background-color: #ffffff;\\n                 border: 1px solid lightgray;\\n                 position: relative;\\n                 float: left;\\n             }\\n\\n             \\n\\n             \\n\\n             \\n        </style>\\n    </head>\\n\\n\\n    <body>\\n        <div class=\"card\" style=\"width: 100%\">\\n            \\n            \\n            <div id=\"mynetwork\" class=\"card-body\"></div>\\n        </div>\\n\\n        \\n        \\n\\n        <script type=\"text/javascript\">\\n\\n              // initialize global variables.\\n              var edges;\\n              var nodes;\\n              var allNodes;\\n              var allEdges;\\n              var nodeColors;\\n              var originalNodes;\\n              var network;\\n              var container;\\n              var options, data;\\n              var filter = {\\n                  item : \\'\\',\\n                  property : \\'\\',\\n                  value : []\\n              };\\n\\n              \\n\\n              \\n\\n              // This method is responsible for drawing the graph, returns the drawn network\\n              function drawGraph() {\\n                  var container = document.getElementById(\\'mynetwork\\');\\n\\n                  \\n\\n                  // parsing and collecting nodes and edges from the python\\n                  nodes = new vis.DataSet([{\"color\": \"#97c2fc\", \"id\": 1, \"label\": 1, \"shape\": \"dot\"}, {\"color\": \"#97c2fc\", \"id\": 2, \"label\": 2, \"shape\": \"dot\"}, {\"color\": \"#97c2fc\", \"id\": 3, \"label\": 3, \"shape\": \"dot\"}]);\\n                  edges = new vis.DataSet([{\"from\": 1, \"to\": 2}, {\"from\": 2, \"to\": 3}]);\\n\\n                  nodeColors = {};\\n                  allNodes = nodes.get({ returnType: \"Object\" });\\n                  for (nodeId in allNodes) {\\n                    nodeColors[nodeId] = allNodes[nodeId].color;\\n                  }\\n                  allEdges = edges.get({ returnType: \"Object\" });\\n                  // adding nodes and edges to the graph\\n                  data = {nodes: nodes, edges: edges};\\n\\n                  var options = {\\n    \"configure\": {\\n        \"enabled\": false\\n    },\\n    \"edges\": {\\n        \"color\": {\\n            \"inherit\": true\\n        },\\n        \"smooth\": {\\n            \"enabled\": true,\\n            \"type\": \"dynamic\"\\n        }\\n    },\\n    \"interaction\": {\\n        \"dragNodes\": true,\\n        \"hideEdgesOnDrag\": false,\\n        \"hideNodesOnDrag\": false\\n    },\\n    \"physics\": {\\n        \"enabled\": true,\\n        \"stabilization\": {\\n            \"enabled\": true,\\n            \"fit\": true,\\n            \"iterations\": 1000,\\n            \"onlyDynamicEdges\": false,\\n            \"updateInterval\": 50\\n        }\\n    }\\n};\\n\\n                  \\n\\n\\n                  \\n\\n                  network = new vis.Network(container, data, options);\\n\\n                  \\n\\n                  \\n\\n                  \\n\\n\\n                  \\n\\n                  return network;\\n\\n              }\\n              drawGraph();\\n        </script>\\n    </body>\\n</html>'"
      ]
     },
     "execution_count": 23,
     "metadata": {},
     "output_type": "execute_result"
    }
   ],
   "source": [
    "g.generate_html('example.html')"
   ]
  },
  {
   "cell_type": "code",
   "execution_count": null,
   "metadata": {},
   "outputs": [],
   "source": []
  }
 ],
 "metadata": {
  "kernelspec": {
   "display_name": "entityExtraction",
   "language": "python",
   "name": "python3"
  },
  "language_info": {
   "codemirror_mode": {
    "name": "ipython",
    "version": 3
   },
   "file_extension": ".py",
   "mimetype": "text/x-python",
   "name": "python",
   "nbconvert_exporter": "python",
   "pygments_lexer": "ipython3",
   "version": "3.10.16"
  }
 },
 "nbformat": 4,
 "nbformat_minor": 2
}
